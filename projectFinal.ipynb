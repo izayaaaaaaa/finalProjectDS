{
 "cells": [
  {
   "attachments": {},
   "cell_type": "markdown",
   "metadata": {},
   "source": [
    "# Phase 1: Data Gathering"
   ]
  },
  {
   "attachments": {},
   "cell_type": "markdown",
   "metadata": {},
   "source": [
    "## a. Import required libraries"
   ]
  },
  {
   "cell_type": "code",
   "execution_count": null,
   "metadata": {},
   "outputs": [],
   "source": [
    "# These are the latest versions of said modules upon the creation of this project\n",
    "\n",
    "# Uncomment the line below to install dependencies for the required libraries\n",
    "#!pip install -r requirements.txt\n",
    "\n",
    "# cross check with the cloud based version on the course"
   ]
  },
  {
   "attachments": {},
   "cell_type": "markdown",
   "metadata": {},
   "source": [
    "**Pandas** is a widely-used library in Python for data analysis and manipulation. It provides a flexible data structure called a DataFrame, which is similar to a spreadsheet or a database table. With Pandas, you can load, clean, and transform data, compute descriptive statistics, visualize patterns, select specific subsets of data based on conditions, group data based on variables, and merge data from multiple sources. This library is an essential tool for data scientists and can greatly simplify the process of analyzing large datasets like the 1985 Auto Imports dataset."
   ]
  },
  {
   "cell_type": "code",
   "execution_count": null,
   "metadata": {},
   "outputs": [],
   "source": [
    "# pandas 1.5.3\n",
    "import pandas as pd"
   ]
  },
  {
   "attachments": {},
   "cell_type": "markdown",
   "metadata": {},
   "source": [
    "**NumPy** is a fundamental library in Python for scientific computing and data analysis. It provides support for arrays and matrices of numerical data, and allows for the efficient execution of mathematical operations on these arrays. NumPy can be used for a wide range of applications in data science, including numerical computation, array manipulation, and statistical analysis. \n",
    "\n",
    "In the context of the 1985 Auto Imports dataset, NumPy can be used to perform numerical operations on the dataset, such as computing the mean, median, or standard deviation of the car prices, or performing more complex operations like matrix multiplication. The efficiency and versatility of NumPy make it a valuable tool for data scientists working with large datasets."
   ]
  },
  {
   "cell_type": "code",
   "execution_count": null,
   "metadata": {},
   "outputs": [],
   "source": [
    "# numpy 1.24.1\n",
    "import numpy as np"
   ]
  },
  {
   "attachments": {},
   "cell_type": "markdown",
   "metadata": {},
   "source": [
    "**Matplotlib** is a plotting library in Python that provides an interface for creating a variety of visualizations including line plots, bar charts, scatter plots, histograms, and more. It can be used to explore relationships between variables in a dataset, such as the 1985 Auto Imports dataset.\n",
    "\n",
    "**Pylab** and **Pyplot** are modules within Matplotlib that provide a convenient interface for creating plots and visualizations. Pylab provides a set of convenience functions that allow for simple and quick creation of plots, while Pyplot provides an interface for creating plots with a more explicit structure. \n",
    "\n",
    "In the context of the 1985 Auto Imports dataset, Pylab and Pyplot could be used to create visualizations such as histograms to visualize the distribution of car prices, or scatter plots to visualize the relationship between car weight and fuel efficiency. These modules make it easy to create high-quality visualizations, allowing data scientists to gain insights into the data and explore relationships between variables."
   ]
  },
  {
   "cell_type": "code",
   "execution_count": null,
   "metadata": {},
   "outputs": [],
   "source": [
    "# matplotlib 3.6.3\n",
    "import matplotlib.pylab as plt_lab\n",
    "import matplotlib.pyplot as plt_plot"
   ]
  },
  {
   "attachments": {},
   "cell_type": "markdown",
   "metadata": {},
   "source": [
    "**Seaborn** is a library in Python for data visualization that is built on top of Matplotlib. It provides a high-level interface for creating advanced visualizations, including statistical plots, such as density plots, box plots, and violin plots, and relational plots, such as scatter plots and line plots. Seaborn also provides convenient functions for customizing the appearance of the visualizations, such as color palette choices, style themes, and annotating the plots with text and labels. \n",
    "\n",
    "In terms of the 1985 Auto Imports dataset, Seaborn could be used to create visualizations that highlight the distribution of car prices, engine sizes, or other variables, or to create scatter plots to visualize relationships between variables. The advanced features and ease of use of Seaborn make it a valuable tool for data scientists to gain insights and understanding about the 1985 Auto Imports dataset."
   ]
  },
  {
   "cell_type": "code",
   "execution_count": null,
   "metadata": {},
   "outputs": [],
   "source": [
    "# seaborn 0.12.2\n",
    "import seaborn as sns"
   ]
  },
  {
   "attachments": {},
   "cell_type": "markdown",
   "metadata": {},
   "source": [
    "**SciPy** is a library in Python for scientific computing and data analysis. Its stats module provides a wide range of statistical functions and tools for data analysis. In the context of the 1985 Auto Imports dataset, the SciPy stats library can be used to analyze the data in various ways such as:\n",
    "- Calculating summary statistics like mean, median and standard deviation of car prices or other variables\n",
    "- Testing hypotheses such as if there's a significant difference in car prices between different countries\n",
    "- Fitting statistical models, such as linear regression, to understand the relationship between variables and make predictions"
   ]
  },
  {
   "cell_type": "code",
   "execution_count": null,
   "metadata": {},
   "outputs": [],
   "source": [
    "# scipy 1.2.1\n",
    "from scipy import stats"
   ]
  },
  {
   "attachments": {},
   "cell_type": "markdown",
   "metadata": {},
   "source": [
    "**Scikit-learn** is a machine learning library in Python that provides a range of algorithms for classification, regression, clustering, and dimensionality reduction. \n",
    "\n",
    "In the context of the 1985 Auto Imports dataset, scikit-learn could be used to build predictive models for car prices based on the features of the cars, such as engine size and country of origin. For example, a linear regression model could be fit to the data to predict the car price based on the engine size, or a k-means clustering algorithm could be used to group similar cars based on their features. By providing a wide range of machine learning algorithms, scikit-learn is a powerful tool for exploring and understanding the relationships in the 1985 Auto Imports dataset.\n",
    "\n",
    "\n",
    "\n"
   ]
  },
  {
   "cell_type": "code",
   "execution_count": null,
   "metadata": {},
   "outputs": [],
   "source": [
    "# scikit-learn 1.2.1\n",
    "\n",
    "from sklearn.linear_model import LinearRegression\n",
    "from sklearn.linear_model import Ridge\n",
    "\n",
    "from sklearn.metrics import mean_squared_error\n",
    "from sklearn.metrics import r2_score\n",
    "\n",
    "from sklearn.model_selection import cross_val_predict\n",
    "from sklearn.model_selection import cross_val_score\n",
    "from sklearn.model_selection import GridSearchCV\n",
    "from sklearn.model_selection import train_test_split\n",
    "\n",
    "from sklearn.preprocessing import PolynomialFeatures\n",
    "from sklearn.preprocessing import StandardScaler\n",
    "\n",
    "from sklearn.pipeline import Pipeline"
   ]
  },
  {
   "attachments": {},
   "cell_type": "markdown",
   "metadata": {},
   "source": [
    "**IPyWidgets** is a library in Python for creating interactive user interfaces within Jupyter notebooks. It provides a variety of interactive widgets, such as sliders, buttons, and dropdown menus, that allow users to control and explore the data in real-time. \n",
    "\n",
    "In the context of the 1985 Auto Imports dataset, IPyWidgets could be used to create interactive visualizations that allow the user to dynamically explore the relationships between variables. For example, a user could use a slider widget to control the range of car prices displayed in a scatter plot, or a dropdown menu to select different engine sizes to plot. By allowing the user to interact with the data in real-time, IPyWidgets provides a powerful tool for gaining insights into the 1985 Auto Imports dataset.\n",
    "\n",
    "\n",
    "\n"
   ]
  },
  {
   "cell_type": "code",
   "execution_count": null,
   "metadata": {},
   "outputs": [],
   "source": [
    "# ipywidgets 8.0.4\n",
    "from ipywidgets import interact, interactive, fixed, interact_manual"
   ]
  },
  {
   "attachments": {},
   "cell_type": "markdown",
   "metadata": {},
   "source": [
    "**tqdm** is a library in Python for creating progress bars to visualize the progress of long-running operations. It provides a simple way to add a progress bar to loops and iterators, allowing the user to see how far the operation has progressed and how much time remains. \n",
    "\n",
    "In the context of the 1985 Auto Imports dataset, tqdm could be used to create a progress bar for any time-intensive operations, such as loading or processing the data. By providing visual feedback on the progress of the operation, tqdm helps to make the user experience more seamless and less frustrating, particularly for long-running operations."
   ]
  },
  {
   "cell_type": "code",
   "execution_count": null,
   "metadata": {},
   "outputs": [],
   "source": [
    "# tqdm 4.64.1\n",
    "from tqdm import tqdm"
   ]
  },
  {
   "attachments": {},
   "cell_type": "markdown",
   "metadata": {},
   "source": [
    "## b. 1985 Auto Imports Database\n",
    "This dataset is donated by Jeffrey C. Schlimmer on May 19, 1987. The dataset's source are:\n",
    "1. 1985 Model Import Car and Truck Specifications, 1985 Ward's Automotive Yearbook\n",
    "2. Personal Auto Manuals, Insurance Services Office, 160 Water Street, New York, NY 10038\n",
    "3. Insurance Collision Report, Insurance Institute for Highway Safety, Watergate 600, Washington, DC 20037"
   ]
  },
  {
   "attachments": {},
   "cell_type": "markdown",
   "metadata": {},
   "source": [
    "### Attributes\n",
    "The attributes of this dataset represent:\n",
    "- specification of an auto in terms of various characteristics\n",
    "- assigned insurance risk rating (symboling)\n",
    "- normalized losses in use as compared to other cars\n",
    "\n",
    "    *This value is normalized for all autos within a particular size classification (two-door small, station wagons, sports/speciality, etc...), and represents the average loss per car per year.*"
   ]
  },
  {
   "attachments": {},
   "cell_type": "markdown",
   "metadata": {},
   "source": [
    "1. **symboling** - the degree to which the auto is more risky than its price indicates (3 = very risky, -3 = very safe)\n",
    "2. **normalized-losses** - normalized loss value for a particular car; may represent the financial loss or cost associated with a car\n",
    "3. **make** - make of the car (e.g., Honda, Toyota, etc.)\n",
    "4. **fuel-type** - type of fuel used by the car (gas or diesel)\n",
    "5. **aspiration** - type of engine aspiration (standard or turbocharged)\n",
    "6. **num-of-doors** - number of doors on the car \n",
    "7. **body-style** - style of the car's body (e.g., sedan, hatchback, etc.)\n",
    "8. **drive-wheels** - configuration of the car's drive wheels (front, rear, or four-wheel)\n",
    "9. **engine-location** - location of the car's engine (front or rear)\n",
    "10. **wheel-base** - distance between the centers of the front and rear wheels \n",
    "11. **length** - length of the car \n",
    "12. **width** - width of the car \n",
    "13. **height** - height of the car\n",
    "14. **curb-weight** - weight of the car without any passengers or cargo\n",
    "15. **engine-type** - type of engine in the car (e.g., dohc, ohc, etc.)\n",
    "16. **num-of-cylinders** - number of cylinders in the car's engine\n",
    "17. **engine-size** - size of the car's engine\n",
    "18. **fuel-system** - fuel system used by the car (e.g., mpfi, 2bbl, etc.)\n",
    "19. **bore** - diameter of the car's cylinders\n",
    "20. **stroke** - distance traveled by the car's pistons during one engine cycle\n",
    "21. **compression-ratio** - ratio of the volume of the combustion chamber at the bottom of the piston stroke to the volume at the top\n",
    "22. **horsepower** - power of the car's engine\n",
    "23. **peak-rpm** - highest number of revolutions per minute the car's engine can make\n",
    "24. **city-mpg** - number of miles per gallon the car can get in the city\n",
    "25. **highway-mpg** - number of miles per gallon the car can get on the highway\n",
    "26. **price** - price of the car"
   ]
  },
  {
   "attachments": {},
   "cell_type": "markdown",
   "metadata": {},
   "source": [
    "### Replace dataset headers with attribute names"
   ]
  },
  {
   "cell_type": "code",
   "execution_count": null,
   "metadata": {},
   "outputs": [],
   "source": [
    "# rename the columns to their proper attribute labels\n",
    "headers = [\"symboling\",\"normalized-losses\",\"make\",\"fuel-type\",\"aspiration\", \"num-of-doors\",\"body-style\",\n",
    "         \"drive-wheels\",\"engine-location\",\"wheel-base\", \"length\",\"width\",\"height\",\"curb-weight\",\"engine-type\",\n",
    "         \"num-of-cylinders\", \"engine-size\",\"fuel-system\",\"bore\",\"stroke\",\"compression-ratio\",\"horsepower\",\n",
    "         \"peak-rpm\",\"city-mpg\",\"highway-mpg\",\"price\"]"
   ]
  },
  {
   "cell_type": "markdown",
   "metadata": {},
   "source": [
    "### Read and save the dataset\n"
   ]
  },
  {
   "cell_type": "code",
   "execution_count": null,
   "metadata": {},
   "outputs": [],
   "source": [
    "dataset = \"./auto.csv\"\n",
    "\n",
    "df = pd.read_csv(dataset, header=None, names=headers)\n",
    "\n",
    "df.head()"
   ]
  },
  {
   "attachments": {},
   "cell_type": "markdown",
   "metadata": {},
   "source": [
    "## c. Basic insight on the dataset"
   ]
  },
  {
   "cell_type": "code",
   "execution_count": null,
   "metadata": {},
   "outputs": [],
   "source": [
    "print(\"The dataset has\", df.shape[0] , \"rows and\", df.shape[1], \"columns\")"
   ]
  },
  {
   "attachments": {},
   "cell_type": "markdown",
   "metadata": {},
   "source": [
    "### Data Types"
   ]
  },
  {
   "cell_type": "code",
   "execution_count": null,
   "metadata": {},
   "outputs": [],
   "source": [
    "print(\"The types of the columns are as follows:\\n\", df.dtypes)"
   ]
  },
  {
   "attachments": {},
   "cell_type": "markdown",
   "metadata": {},
   "source": [
    "### Overview of the Dataset\n",
    "This provides a statistical summary of all columns, including object-typed attributes.\n",
    "\n",
    "*Note: Some values in the table below show as \"NaN\" because their respective columns contain missing data.*"
   ]
  },
  {
   "cell_type": "code",
   "execution_count": null,
   "metadata": {},
   "outputs": [],
   "source": [
    "df.describe(include = \"all\")"
   ]
  },
  {
   "cell_type": "code",
   "execution_count": null,
   "metadata": {},
   "outputs": [],
   "source": [
    "df.info()"
   ]
  },
  {
   "attachments": {},
   "cell_type": "markdown",
   "metadata": {},
   "source": [
    "# Phase 2: Cleansing Data"
   ]
  },
  {
   "attachments": {},
   "cell_type": "markdown",
   "metadata": {},
   "source": [
    "## a. Identify and handle missing values"
   ]
  },
  {
   "cell_type": "code",
   "execution_count": null,
   "metadata": {},
   "outputs": [],
   "source": [
    "# Convert \"?\" to NaN\n",
    "df.replace(\"?\", np.nan, inplace = True)\n",
    "\n",
    "# Identify missing values\n",
    "print(\"The number of missing values per column are:\\n\", df.isnull().sum())"
   ]
  },
  {
   "attachments": {},
   "cell_type": "markdown",
   "metadata": {},
   "source": [
    "#### There are several ways to deal with missing data:\n",
    "1. **Drop data** - a data point (row) is removed if it contains a missing value\n",
    "2. **Replace data** - missing value is replaced by mean or frequency\n",
    "3. **Drop attribute** - the entire column is removed if it contains enough missing values\n"
   ]
  },
  {
   "attachments": {},
   "cell_type": "markdown",
   "metadata": {},
   "source": [
    "### Normalized Losses\n",
    "The normalized losses attribute has 41 missing values, which is about 20% of the total dataset, which is insignificant enough for the attribute to be dropped. Furthermore, since it is a numerical variable and the data distribution is barely asymmetrical, replacing the missing values with the mean is recommended."
   ]
  },
  {
   "cell_type": "code",
   "execution_count": null,
   "metadata": {},
   "outputs": [],
   "source": [
    "# visualize the distribution of normalized losses\n",
    "plt_lab.hist(df[\"normalized-losses\"].astype(\"float\"), bins = 10)"
   ]
  },
  {
   "cell_type": "code",
   "execution_count": null,
   "metadata": {},
   "outputs": [],
   "source": [
    "# calculate the mean value for normalized losses\n",
    "mean_normalized_losses = df[\"normalized-losses\"].astype(\"float\").mean(axis=0)\n",
    "print(\"Average of normalized losses:\", mean_normalized_losses)\n",
    "\n",
    "# replace NaN with mean value in \"normalized-losses\" column\n",
    "df[\"normalized-losses\"].replace(np.nan, mean_normalized_losses, inplace=True)"
   ]
  },
  {
   "attachments": {},
   "cell_type": "markdown",
   "metadata": {},
   "source": [
    "### Num of Doors\n",
    "The num of doors attribute has only 2 missing values. It is a categorical variable, so replacing the missing values with the most frequent value is recommended."
   ]
  },
  {
   "cell_type": "code",
   "execution_count": null,
   "metadata": {},
   "outputs": [],
   "source": [
    "# calculate the frequency of each value in the \"num-of-doors\" column\n",
    "print(\"The frequency of each value in the num-of-doors column is:\\n\", df[\"num-of-doors\"].value_counts())\n",
    "\n",
    "# replace the missing 'num-of-doors' values by the most frequent\n",
    "df[\"num-of-doors\"].replace(np.nan, \"four\", inplace=True)\n"
   ]
  },
  {
   "attachments": {},
   "cell_type": "markdown",
   "metadata": {},
   "source": [
    "### Bore\n",
    "The bore attribute has only 4 missing values. It is a numerical variable, so replacing the missing values with the mean is recommended."
   ]
  },
  {
   "cell_type": "code",
   "execution_count": null,
   "metadata": {},
   "outputs": [],
   "source": [
    "# calculate the mean value for bore\n",
    "mean_bore = df[\"bore\"].astype(\"float\").mean(axis=0)\n",
    "print(\"Average of bore:\", mean_bore)\n",
    "\n",
    "# replace NaN with mean value in \"bore\" column\n",
    "df[\"bore\"].replace(np.nan, mean_bore, inplace=True)"
   ]
  },
  {
   "attachments": {},
   "cell_type": "markdown",
   "metadata": {},
   "source": [
    "### Stroke\n",
    "The stroke attribute has only 4 missing values. It is a numerical variable, so replacing the missing values with the mean is recommended."
   ]
  },
  {
   "cell_type": "code",
   "execution_count": null,
   "metadata": {},
   "outputs": [],
   "source": [
    "# calculate the mean value for stroke\n",
    "mean_stroke = df[\"stroke\"].astype(\"float\").mean(axis=0)\n",
    "print(\"Average of stroke:\", mean_stroke)\n",
    "\n",
    "# replace NaN with mean value in \"stroke\" column\n",
    "df[\"stroke\"].replace(np.nan, mean_stroke, inplace=True)"
   ]
  },
  {
   "attachments": {},
   "cell_type": "markdown",
   "metadata": {},
   "source": [
    "### Horsepower\n",
    "The horsepower attribute has only 2 missing values. It is a numerical variable, so replacing the missing values with the mean is recommended.\n"
   ]
  },
  {
   "cell_type": "code",
   "execution_count": null,
   "metadata": {},
   "outputs": [],
   "source": [
    "# calculate the mean value for horsepower\n",
    "mean_horsepower = df[\"horsepower\"].astype(\"float\").mean(axis=0)\n",
    "print(\"Average horsepower:\", mean_horsepower)\n",
    "\n",
    "# replace NaN with mean value in \"horsepower\" column\n",
    "df[\"horsepower\"].replace(np.nan, mean_horsepower, inplace=True)"
   ]
  },
  {
   "attachments": {},
   "cell_type": "markdown",
   "metadata": {},
   "source": [
    "### Peak RPM\n",
    "The peak rpm attribute has only 2 missing values. It is a numerical variable, so replacing the missing values with the mean is recommended."
   ]
  },
  {
   "cell_type": "code",
   "execution_count": null,
   "metadata": {},
   "outputs": [],
   "source": [
    "# calculate the mean value for peak-rpm\n",
    "mean_peak_rpm = df[\"peak-rpm\"].astype(\"float\").mean(axis=0)\n",
    "print(\"Average peak rpm:\", mean_peak_rpm)\n",
    "\n",
    "# replace NaN with mean value in \"peak-rpm\" column\n",
    "df[\"peak-rpm\"].replace(np.nan, mean_peak_rpm, inplace=True)"
   ]
  },
  {
   "attachments": {},
   "cell_type": "markdown",
   "metadata": {},
   "source": [
    "### Price\n",
    "The price attribute has only 4 missing values. However, it is the target variable. As such, the rows with missing values are dropped."
   ]
  },
  {
   "cell_type": "code",
   "execution_count": null,
   "metadata": {},
   "outputs": [],
   "source": [
    "# drop all rows that do not have price data\n",
    "df.dropna(subset=[\"price\"], axis=0, inplace=True)\n",
    "\n",
    "# reset index, because we droped two rows\n",
    "df.reset_index(drop=True, inplace=True)"
   ]
  },
  {
   "attachments": {},
   "cell_type": "markdown",
   "metadata": {},
   "source": [
    "## b. Data standardization\n",
    "In the context of the auto dataset provided, data standardization could be applied to the variables in order to make them comparable and interpretable. For example, the variables \"normalized-losses\", \"wheel-base\", \"length\", \"width\", \"height\", etc. are measured in different units and scales, which can make it difficult to compare and analyze them. By standardizing these variables, we can transform them into a common format, such as z-scores, which makes it easier to compare and analyze them.\n",
    "\n",
    "Also, standardizing the data can help to identify the relationship between the independent and dependent variable. For instance, using the mean subtraction and division by the standard deviation method, can make the data more easily comparable and interpretable, by scaling the data and making it more easily comparable to other variables in the dataset. This can be useful in identifying patterns and relationships in the data that would not be easily apparent if the variables were in their original format."
   ]
  },
  {
   "attachments": {},
   "cell_type": "markdown",
   "metadata": {},
   "source": [
    "### Correcting the data format of the columns\n",
    "It has been observed that some columns in the dataset have incorrect data types. To fix this issue, the \"astype()\" method will be used to convert the data types of each column to the appropriate format."
   ]
  },
  {
   "cell_type": "code",
   "execution_count": null,
   "metadata": {},
   "outputs": [],
   "source": [
    "# categorical are symboling, make, fuel-type, aspiration, num-of-doors, body-style, drive-wheels, engine-location, engine-type, num-of-cylinders, fuel-system\n",
    "df[[\"symboling\", \"make\", \"fuel-type\", \"aspiration\", \"num-of-doors\", \"body-style\", \"drive-wheels\", \"engine-location\", \"engine-type\", \"num-of-cylinders\", \"fuel-system\"]] = df[[\"symboling\", \"make\", \"fuel-type\", \"aspiration\", \"num-of-doors\", \"body-style\", \"drive-wheels\", \"engine-location\", \"engine-type\", \"num-of-cylinders\", \"fuel-system\"]].astype(\"category\")\n",
    "\n",
    "# normalized-losses as an int\n",
    "df[['normalized-losses']] = df[['normalized-losses']].astype(\"int\")\n",
    "\n",
    "# bore, stroke, horsepower, peak-rpm, price as a float\n",
    "df[['bore', 'stroke', 'horsepower', 'peak-rpm', 'price']] = df[['bore', 'stroke', 'horsepower', 'peak-rpm', 'price']].astype(\"float\")\n",
    "\n",
    "# the rest are continuous. float is used to ensure inclusivity\n",
    "\n",
    "df.dtypes"
   ]
  },
  {
   "attachments": {},
   "cell_type": "markdown",
   "metadata": {},
   "source": [
    "## c. Data normalization\n",
    "In the context of the auto dataset provided, normalization can be useful when comparing variables that have different scales and units of measurement. For example, \"normalized-losses\", \"wheel-base\", \"length\", \"width\", \"height\" etc are measured in different units and scales, so in order to compare them effectively and make meaningful analysis, normalizing the variables so that they have similar ranges can be necessary. "
   ]
  },
  {
   "cell_type": "code",
   "execution_count": null,
   "metadata": {},
   "outputs": [],
   "source": [
    "# replace original value by (original value)/(maximum value)\n",
    "df['length'] = df['length']/df['length'].max()\n",
    "df['width'] = df['width']/df['width'].max()\n",
    "df['height'] = df['height']/df['height'].max()"
   ]
  },
  {
   "attachments": {},
   "cell_type": "markdown",
   "metadata": {},
   "source": [
    "# Phase 3: Exploratory Data Analysis"
   ]
  },
  {
   "attachments": {},
   "cell_type": "markdown",
   "metadata": {},
   "source": [
    "## Overview of the Dataset\n"
   ]
  },
  {
   "cell_type": "code",
   "execution_count": null,
   "metadata": {},
   "outputs": [],
   "source": [
    "# describe the characteristics of the continuous variables in the dataset\n",
    "df.describe()"
   ]
  },
  {
   "cell_type": "code",
   "execution_count": null,
   "metadata": {},
   "outputs": [],
   "source": [
    "# describe the characteristics of the categorical variables in the dataset\n",
    "df.describe(include=['category'])"
   ]
  },
  {
   "attachments": {},
   "cell_type": "markdown",
   "metadata": {},
   "source": [
    "## Continuous numerical variables"
   ]
  },
  {
   "cell_type": "code",
   "execution_count": null,
   "metadata": {},
   "outputs": [],
   "source": [
    "width = 12\n",
    "height = 10"
   ]
  },
  {
   "attachments": {},
   "cell_type": "markdown",
   "metadata": {},
   "source": [
    "### Normalized Losses vs Price\n",
    "The plot shows a *very weak positive* linear relationship between normalized losses and price. "
   ]
  },
  {
   "cell_type": "code",
   "execution_count": null,
   "metadata": {},
   "outputs": [],
   "source": [
    "# regression plot of normalized losses vs price\n",
    "plt_plot.figure(figsize=(width, height))\n",
    "sns.regplot(x=\"normalized-losses\", y=\"price\", data=df)\n",
    "plt_plot.ylim(0,)"
   ]
  },
  {
   "cell_type": "code",
   "execution_count": null,
   "metadata": {},
   "outputs": [],
   "source": [
    "# examine the correlation between normalized losses and price\n",
    "df[[\"normalized-losses\", \"price\"]].corr()"
   ]
  },
  {
   "attachments": {},
   "cell_type": "markdown",
   "metadata": {},
   "source": [
    "### Wheel Base vs Price\n",
    "The plot shows a *moderate positive* linear relationship between wheel base and price. This indicates that as wheel base increases, price also increases. This makes sense, as cars with longer wheel bases are generally more expensive."
   ]
  },
  {
   "cell_type": "code",
   "execution_count": null,
   "metadata": {},
   "outputs": [],
   "source": [
    "# regression plot of wheel base vs price\n",
    "plt_plot.figure(figsize=(width, height))\n",
    "sns.regplot(x=\"wheel-base\", y=\"price\", data=df)\n",
    "plt_plot.ylim(0,)"
   ]
  },
  {
   "cell_type": "code",
   "execution_count": null,
   "metadata": {},
   "outputs": [],
   "source": [
    "# examine the correlation between wheel base and price\n",
    "df[[\"wheel-base\", \"price\"]].corr()"
   ]
  },
  {
   "attachments": {},
   "cell_type": "markdown",
   "metadata": {},
   "source": [
    "### Length vs Price\n",
    "The plot shows a *strong positive* linear relationship between length and price. This indicates that as length increases, price also increases. This makes sense, as longer cars are generally more expensive."
   ]
  },
  {
   "cell_type": "code",
   "execution_count": null,
   "metadata": {},
   "outputs": [],
   "source": [
    "# regression plot of length vs price\n",
    "plt_plot.figure(figsize=(width, height))\n",
    "sns.regplot(x=\"length\", y=\"price\", data=df)\n",
    "plt_plot.ylim(0,)"
   ]
  },
  {
   "cell_type": "code",
   "execution_count": null,
   "metadata": {},
   "outputs": [],
   "source": [
    "# examine the correlation between length and price\n",
    "df[[\"length\", \"price\"]].corr()"
   ]
  },
  {
   "attachments": {},
   "cell_type": "markdown",
   "metadata": {},
   "source": [
    "### Width vs Price\n",
    "The plot shows a *strong positive* linear relationship between width and price. This indicates that as width increases, price also increases. This makes sense, as wider cars are generally more expensive."
   ]
  },
  {
   "cell_type": "code",
   "execution_count": null,
   "metadata": {},
   "outputs": [],
   "source": [
    "# regression plot of width vs price\n",
    "plt_plot.figure(figsize=(width, height))\n",
    "sns.regplot(x=\"width\", y=\"price\", data=df)\n",
    "plt_plot.ylim(0,)"
   ]
  },
  {
   "cell_type": "code",
   "execution_count": null,
   "metadata": {},
   "outputs": [],
   "source": [
    "# examine the correlation between width and price\n",
    "df[[\"width\", \"price\"]].corr()"
   ]
  },
  {
   "attachments": {},
   "cell_type": "markdown",
   "metadata": {},
   "source": [
    "### Height vs Price\n",
    "The plot shows a *very weak positive* linear relationship between height and price. "
   ]
  },
  {
   "cell_type": "code",
   "execution_count": null,
   "metadata": {},
   "outputs": [],
   "source": [
    "# regression plot of height vs price\n",
    "plt_plot.figure(figsize=(width, height))\n",
    "sns.regplot(x=\"height\", y=\"price\", data=df)\n",
    "plt_plot.ylim(0,)"
   ]
  },
  {
   "cell_type": "code",
   "execution_count": null,
   "metadata": {},
   "outputs": [],
   "source": [
    "# examine the correlation between height and price\n",
    "df[[\"height\", \"price\"]].corr()"
   ]
  },
  {
   "attachments": {},
   "cell_type": "markdown",
   "metadata": {},
   "source": [
    "### Curb Weight vs Price\n",
    "The plot shows a *very strong positive* linear relationship between curb weight and price. This indicates that as curb weight increases, price also increases. This makes sense, as heavier cars are generally more expensive."
   ]
  },
  {
   "cell_type": "code",
   "execution_count": null,
   "metadata": {},
   "outputs": [],
   "source": [
    "# visualize the relationship between curb-weight and price\n",
    "plt_plot.figure(figsize=(width, height))\n",
    "sns.regplot(x=\"curb-weight\", y=\"price\", data=df)\n",
    "plt_plot.ylim(0,)"
   ]
  },
  {
   "cell_type": "code",
   "execution_count": null,
   "metadata": {},
   "outputs": [],
   "source": [
    "# examine the correlation between curb-weight and price\n",
    "df[[\"curb-weight\", \"price\"]].corr()"
   ]
  },
  {
   "attachments": {},
   "cell_type": "markdown",
   "metadata": {},
   "source": [
    "### Engine size vs price\n",
    "\n",
    "The plot shows a *very strong positive* correlation between engine size and price, meaning as engine size increases, so does the price. This makes sense as larger engines are typically found in more expensive vehicles.\n",
    "\n"
   ]
  },
  {
   "cell_type": "code",
   "execution_count": null,
   "metadata": {},
   "outputs": [],
   "source": [
    "# regression plot of \"engine-size\" and \"price\"\n",
    "plt_plot.figure(figsize=(width, height))\n",
    "sns.regplot(x=\"engine-size\", y=\"price\", data=df)\n",
    "plt_plot.ylim(0,)"
   ]
  },
  {
   "cell_type": "code",
   "execution_count": null,
   "metadata": {},
   "outputs": [],
   "source": [
    "# examine the correlation between engine-size and price\n",
    "df[[\"engine-size\", \"price\"]].corr()"
   ]
  },
  {
   "attachments": {},
   "cell_type": "markdown",
   "metadata": {},
   "source": [
    "### Bore vs Price\n",
    "The plot shows a *moderate positive* linear relationship between bore and price. This indicates that as bore increases, price also increases."
   ]
  },
  {
   "cell_type": "code",
   "execution_count": null,
   "metadata": {},
   "outputs": [],
   "source": [
    "# regression plot of \"bore\" and \"price\"\n",
    "plt_plot.figure(figsize=(width, height))\n",
    "sns.regplot(x=\"bore\", y=\"price\", data=df)\n",
    "plt_plot.ylim(0,)"
   ]
  },
  {
   "cell_type": "code",
   "execution_count": null,
   "metadata": {},
   "outputs": [],
   "source": [
    "# examine the correlation between bore and price\n",
    "df[[\"bore\", \"price\"]].corr()"
   ]
  },
  {
   "attachments": {},
   "cell_type": "markdown",
   "metadata": {},
   "source": [
    "### Stroke vs price\n",
    "The plot shows a *very weak positive* linear relationship between stroke and price. "
   ]
  },
  {
   "cell_type": "code",
   "execution_count": null,
   "metadata": {},
   "outputs": [],
   "source": [
    "# regression plot of \"stroke\" and \"price\"\n",
    "plt_plot.figure(figsize=(width, height))\n",
    "sns.regplot(x=\"stroke\", y=\"price\", data=df)\n",
    "plt_plot.ylim(0,)"
   ]
  },
  {
   "cell_type": "code",
   "execution_count": null,
   "metadata": {},
   "outputs": [],
   "source": [
    "# examine the correlation between stroke and price\n",
    "df[[\"stroke\",\"price\"]].corr()"
   ]
  },
  {
   "attachments": {},
   "cell_type": "markdown",
   "metadata": {},
   "source": [
    "### Compression Ratio\n",
    "The plot shows a *very weak positive* linear relationship between compression ratio and price. "
   ]
  },
  {
   "cell_type": "code",
   "execution_count": null,
   "metadata": {},
   "outputs": [],
   "source": [
    "# regression plot of \"compression-ratio\" and \"price\"\n",
    "plt_plot.figure(figsize=(width, height))\n",
    "sns.regplot(x=\"compression-ratio\", y=\"price\", data=df)\n",
    "plt_plot.ylim(0,)"
   ]
  },
  {
   "cell_type": "code",
   "execution_count": null,
   "metadata": {},
   "outputs": [],
   "source": [
    "# examine the correlation between compression-ratio and price\n",
    "df[[\"compression-ratio\",\"price\"]].corr()"
   ]
  },
  {
   "attachments": {},
   "cell_type": "markdown",
   "metadata": {},
   "source": [
    "### Horsepower\n",
    "The plot shows a *very strong positive* linear relationship between horsepower and price. This indicates that as horsepower increases, price also increases. This makes sense, as more powerful cars are generally more expensive."
   ]
  },
  {
   "cell_type": "code",
   "execution_count": null,
   "metadata": {},
   "outputs": [],
   "source": [
    "# regression plot of \"horsepower\" and \"price\"\n",
    "plt_plot.figure(figsize=(width, height))\n",
    "sns.regplot(x=\"horsepower\", y=\"price\", data=df)\n",
    "plt_plot.ylim(0,)"
   ]
  },
  {
   "cell_type": "code",
   "execution_count": null,
   "metadata": {},
   "outputs": [],
   "source": [
    "# examine the correlation between horsepower and price\n",
    "df[[\"horsepower\",\"price\"]].corr()"
   ]
  },
  {
   "attachments": {},
   "cell_type": "markdown",
   "metadata": {},
   "source": [
    "### Peak rpm vs price\n",
    "The plot shows a *very weak negative* linear relationship between peak rpm and price."
   ]
  },
  {
   "cell_type": "code",
   "execution_count": null,
   "metadata": {},
   "outputs": [],
   "source": [
    "# regression plot of \"peak-rpm\" and \"price\"\n",
    "plt_plot.figure(figsize=(width, height))\n",
    "sns.regplot(x=\"peak-rpm\", y=\"price\", data=df)\n",
    "plt_plot.ylim(0,)"
   ]
  },
  {
   "cell_type": "code",
   "execution_count": null,
   "metadata": {},
   "outputs": [],
   "source": [
    "# examine the correlation between peak-rpm and price\n",
    "df[[\"peak-rpm\",\"price\"]].corr()"
   ]
  },
  {
   "attachments": {},
   "cell_type": "markdown",
   "metadata": {},
   "source": [
    "### Highway vs price\n",
    "The plot shows a *very strong positive* linear relationship between highway mpg and price. This indicates that as highway mpg increases, price also increases. This makes sense, as cars that get better gas mileage are generally more expensive."
   ]
  },
  {
   "cell_type": "code",
   "execution_count": null,
   "metadata": {},
   "outputs": [],
   "source": [
    "# regression plot of highway-mpg and price\n",
    "plt_plot.figure(figsize=(width, height))\n",
    "sns.regplot(x=\"highway-mpg\", y=\"price\", data=df)\n",
    "plt_plot.ylim(0,)"
   ]
  },
  {
   "cell_type": "code",
   "execution_count": null,
   "metadata": {},
   "outputs": [],
   "source": [
    "# examine the correlation between highway-mpg and price\n",
    "df[[\"highway-mpg\", \"price\"]].corr()"
   ]
  },
  {
   "attachments": {},
   "cell_type": "markdown",
   "metadata": {},
   "source": [
    "### City vs price\n"
   ]
  },
  {
   "cell_type": "code",
   "execution_count": null,
   "metadata": {},
   "outputs": [],
   "source": [
    "# regression plot of city-mpg and price\n",
    "plt_plot.figure(figsize=(width, height))\n",
    "sns.regplot(x=\"city-mpg\", y=\"price\", data=df)\n",
    "plt_plot.ylim(0,)"
   ]
  },
  {
   "cell_type": "code",
   "execution_count": null,
   "metadata": {},
   "outputs": [],
   "source": [
    "# examine the correlation between city-mpg and price\n",
    "df[[\"city-mpg\",\"price\"]].corr()"
   ]
  },
  {
   "attachments": {},
   "cell_type": "markdown",
   "metadata": {},
   "source": [
    "## Categorical variables"
   ]
  },
  {
   "attachments": {},
   "cell_type": "markdown",
   "metadata": {},
   "source": [
    "### Symboling vs price"
   ]
  },
  {
   "cell_type": "code",
   "execution_count": null,
   "metadata": {},
   "outputs": [],
   "source": [
    "# box plot with width and height \n",
    "plt_plot.figure(figsize=(width, height))\n",
    "sns.boxplot(x=\"body-style\", y=\"price\", data=df)"
   ]
  },
  {
   "cell_type": "code",
   "execution_count": null,
   "metadata": {},
   "outputs": [],
   "source": [
    "# value counts of symboling\n",
    "df['symboling'].value_counts()"
   ]
  },
  {
   "attachments": {},
   "cell_type": "markdown",
   "metadata": {},
   "source": [
    "### Make "
   ]
  },
  {
   "cell_type": "code",
   "execution_count": null,
   "metadata": {},
   "outputs": [],
   "source": [
    "# unique values of make\n",
    "print(\"Number of brands: \", len(df['make'].unique()))"
   ]
  },
  {
   "cell_type": "code",
   "execution_count": null,
   "metadata": {},
   "outputs": [],
   "source": [
    "# number of cars per brand\n",
    "df['make'].value_counts()"
   ]
  },
  {
   "attachments": {},
   "cell_type": "markdown",
   "metadata": {},
   "source": [
    "### Num of Doors vs Price"
   ]
  },
  {
   "cell_type": "code",
   "execution_count": null,
   "metadata": {},
   "outputs": [],
   "source": [
    "# box plot of num-of-doors vs price\n",
    "plt_plot.figure(figsize=(width, height))\n",
    "sns.boxplot(x=\"num-of-doors\", y=\"price\", data=df)"
   ]
  },
  {
   "cell_type": "code",
   "execution_count": null,
   "metadata": {},
   "outputs": [],
   "source": [
    "# value counts of num-of-doors\n",
    "df['num-of-doors'].value_counts()"
   ]
  },
  {
   "attachments": {},
   "cell_type": "markdown",
   "metadata": {},
   "source": [
    "### Body style vs price"
   ]
  },
  {
   "cell_type": "code",
   "execution_count": null,
   "metadata": {},
   "outputs": [],
   "source": [
    "# box plot of \"body-style\" and \"price\"\n",
    "plt_plot.figure(figsize=(width, height))\n",
    "sns.boxplot(x=\"body-style\", y=\"price\", data=df)"
   ]
  },
  {
   "cell_type": "code",
   "execution_count": null,
   "metadata": {},
   "outputs": [],
   "source": [
    "# value counts of body-style\n",
    "df['body-style'].value_counts()"
   ]
  },
  {
   "attachments": {},
   "cell_type": "markdown",
   "metadata": {},
   "source": [
    "### Drive wheels vs price"
   ]
  },
  {
   "cell_type": "code",
   "execution_count": null,
   "metadata": {},
   "outputs": [],
   "source": [
    "# box plot of \"drive-wheels\" and \"price\"\n",
    "plt_plot.figure(figsize=(width, height))\n",
    "sns.boxplot(x=\"drive-wheels\", y=\"price\", data=df)"
   ]
  },
  {
   "cell_type": "code",
   "execution_count": null,
   "metadata": {},
   "outputs": [],
   "source": [
    "# value counts on drive-wheels\n",
    "df[\"drive-wheels\"].value_counts()"
   ]
  },
  {
   "attachments": {},
   "cell_type": "markdown",
   "metadata": {},
   "source": [
    "### Engine location vs price"
   ]
  },
  {
   "cell_type": "code",
   "execution_count": null,
   "metadata": {},
   "outputs": [],
   "source": [
    "# box plot of \"engine-location\" and \"price\"\n",
    "plt_plot.figure(figsize=(width, height))\n",
    "sns.boxplot(x=\"engine-location\", y=\"price\", data=df)"
   ]
  },
  {
   "cell_type": "code",
   "execution_count": null,
   "metadata": {},
   "outputs": [],
   "source": [
    "# value counts of engine-location\n",
    "df['engine-location'].value_counts()"
   ]
  },
  {
   "attachments": {},
   "cell_type": "markdown",
   "metadata": {},
   "source": [
    "### Engine Type vs price"
   ]
  },
  {
   "cell_type": "code",
   "execution_count": null,
   "metadata": {},
   "outputs": [],
   "source": [
    "# box plot of \"engine-type\" and \"price\"\n",
    "plt_plot.figure(figsize=(width, height))\n",
    "sns.boxplot(x=\"engine-type\", y=\"price\", data=df)"
   ]
  },
  {
   "cell_type": "code",
   "execution_count": null,
   "metadata": {},
   "outputs": [],
   "source": [
    "# value counts of engine-type\n",
    "df['engine-type'].value_counts()"
   ]
  },
  {
   "attachments": {},
   "cell_type": "markdown",
   "metadata": {},
   "source": [
    "### Num of Cylinders vs price"
   ]
  },
  {
   "cell_type": "code",
   "execution_count": null,
   "metadata": {},
   "outputs": [],
   "source": [
    "# box plot of \"num-of-cylinders\" and \"price\"\n",
    "plt_plot.figure(figsize=(width, height))\n",
    "sns.boxplot(x=\"num-of-cylinders\", y=\"price\", data=df)"
   ]
  },
  {
   "cell_type": "code",
   "execution_count": null,
   "metadata": {},
   "outputs": [],
   "source": [
    "# value counts of num-of-cylinders\n",
    "df['num-of-cylinders'].value_counts()"
   ]
  },
  {
   "attachments": {},
   "cell_type": "markdown",
   "metadata": {},
   "source": [
    "### Fuel System vs price"
   ]
  },
  {
   "cell_type": "code",
   "execution_count": null,
   "metadata": {},
   "outputs": [],
   "source": [
    "# box plot of \"fuel-system\" and \"price\"\n",
    "plt_plot.figure(figsize=(width, height))\n",
    "sns.boxplot(x=\"fuel-system\", y=\"price\", data=df)"
   ]
  },
  {
   "cell_type": "code",
   "execution_count": null,
   "metadata": {},
   "outputs": [],
   "source": [
    "# value counts of fuel-system\n",
    "df['fuel-system'].value_counts()"
   ]
  },
  {
   "attachments": {},
   "cell_type": "markdown",
   "metadata": {},
   "source": [
    "## General Problem Statement:\n",
    "The problem statement for the analysis of the auto dataset is to determine the factors that influence the price of a car and to develop a predictive model that can accurately estimate the price of a car based on its characteristics. The objective is to identify the key variables that contribute to the price of a car and to evaluate the performance of a multiple linear regression model in terms of their ability to predict the price of a car. Additionally, the study aims to explore any patterns or relationships between the car characteristics and the price, and to draw conclusions about the best approach for predicting the price of a car.\n",
    "\n",
    "### Data Science Questions:\n",
    "1. What are the key variables that contribute to the price of a car?\n",
    "2. How well can a multiple linear regression model predict the price of a car?\n",
    "3. What are the patterns and relationships between the car characteristics and the price?"
   ]
  },
  {
   "attachments": {},
   "cell_type": "markdown",
   "metadata": {},
   "source": [
    "# Phase 4: Data Modeling"
   ]
  },
  {
   "attachments": {},
   "cell_type": "markdown",
   "metadata": {},
   "source": [
    "## Feature Extraction\n",
    "Feature extraction is a crucial step in the data analysis process as it involves identifying the most relevant and important features that have a significant impact on the outcome being studied. In the case of the 1985 Auto Imports dataset, Stepwise Regression and residual plots will be utilized to conduct the feature extraction. \n",
    "\n",
    "Stepwise regression is a feature selection method that iteratively adds or removes variables based on statistical criteria, while residual plots are used to visualize the difference between the predicted values and the actual values of the target variable. By combining these two methods, it is possible to identify the most significant predictors that contribute to the variability of the target variable and extract them for further analysis and modeling. This will provide a more parsimonious and interpretable model, as well as improve the model's predictive performance."
   ]
  },
  {
   "attachments": {},
   "cell_type": "markdown",
   "metadata": {},
   "source": [
    "### Stepwise Regression"
   ]
  },
  {
   "cell_type": "code",
   "execution_count": null,
   "metadata": {},
   "outputs": [],
   "source": [
    "## getting column names\n",
    "x_columns = [\"normalized-losses\", \"wheel-base\", \"length\", \"width\", \"height\", \"curb-weight\", \"engine-size\", \"bore\", \"stroke\", \"compression-ratio\", \"horsepower\", \"peak-rpm\", \"city-mpg\", \"highway-mpg\"]\n",
    "y = df[\"price\"]"
   ]
  },
  {
   "cell_type": "code",
   "execution_count": null,
   "metadata": {},
   "outputs": [],
   "source": [
    "# ## creating function to get model statistics\n",
    "# import numpy as np\n",
    "import statsmodels.api as sm\n",
    "def get_stats():\n",
    "    x = df[x_columns]\n",
    "    results = sm.OLS(y, x).fit()\n",
    "    print(results.summary())\n",
    "get_stats()"
   ]
  },
  {
   "cell_type": "code",
   "execution_count": null,
   "metadata": {},
   "outputs": [],
   "source": [
    "# create a loop that removes variables with p-values > 0.05\n",
    "while True:\n",
    "    x = df[x_columns]\n",
    "    results = sm.OLS(y, x).fit()\n",
    "    p_values = results.pvalues\n",
    "    max_p_value = p_values.max()\n",
    "    if max_p_value > 0.05:\n",
    "        max_p_value_index = p_values.idxmax()\n",
    "        x_columns.remove(max_p_value_index)\n",
    "    else:\n",
    "        break\n",
    "\n",
    "print(results.summary())"
   ]
  },
  {
   "cell_type": "code",
   "execution_count": null,
   "metadata": {},
   "outputs": [],
   "source": [
    "# print the variables in the results starting from the least p-value. just the variable names, no numbers\n",
    "significant = results.pvalues.sort_values(ascending=True)\n",
    "print(\"The most significant variables are:\")\n",
    "# print not as array and without index\n",
    "print(significant.index.values)"
   ]
  },
  {
   "attachments": {},
   "cell_type": "markdown",
   "metadata": {},
   "source": [
    "### Residual Plot"
   ]
  },
  {
   "cell_type": "code",
   "execution_count": null,
   "metadata": {},
   "outputs": [],
   "source": [
    "width = 12\n",
    "height = 10"
   ]
  },
  {
   "cell_type": "code",
   "execution_count": null,
   "metadata": {},
   "outputs": [],
   "source": [
    "# residual plot of engine-size and price\n",
    "plt_plot.figure(figsize=(width, height))\n",
    "sns.residplot(x = df['engine-size'], y = df['price'])\n",
    "plt_plot.show()"
   ]
  },
  {
   "cell_type": "code",
   "execution_count": null,
   "metadata": {},
   "outputs": [],
   "source": [
    "# residual plot of compression-ratio and price\n",
    "plt_plot.figure(figsize=(width, height))\n",
    "sns.residplot(x = df['compression-ratio'], y = df['price'])\n",
    "plt_plot.show()"
   ]
  },
  {
   "cell_type": "code",
   "execution_count": null,
   "metadata": {},
   "outputs": [],
   "source": [
    "# residual plot of stroke and price\n",
    "plt_plot.figure(figsize=(width, height))\n",
    "sns.residplot(x = df['stroke'], y = df['price'])\n",
    "plt_plot.show()"
   ]
  },
  {
   "cell_type": "code",
   "execution_count": null,
   "metadata": {},
   "outputs": [],
   "source": [
    "# residual plot of city-mpg and price\n",
    "plt_plot.figure(figsize=(width, height))\n",
    "sns.residplot(x = df['city-mpg'], y = df['price'])\n",
    "plt_plot.show()"
   ]
  },
  {
   "cell_type": "code",
   "execution_count": null,
   "metadata": {},
   "outputs": [],
   "source": [
    "# residual plot of bore and price\n",
    "plt_plot.figure(figsize=(width, height))\n",
    "sns.residplot(x = df['bore'], y = df['price'])\n",
    "plt_plot.show()"
   ]
  },
  {
   "cell_type": "code",
   "execution_count": null,
   "metadata": {},
   "outputs": [],
   "source": [
    "# residual plot of peak-rpm and price\n",
    "plt_plot.figure(figsize=(width, height))\n",
    "sns.residplot(x = df['peak-rpm'], y = df['price'])\n",
    "plt_plot.show()"
   ]
  },
  {
   "cell_type": "code",
   "execution_count": null,
   "metadata": {},
   "outputs": [],
   "source": [
    "# residual plot of horsepower and price\n",
    "plt_plot.figure(figsize=(width, height))\n",
    "sns.residplot(x = df['horsepower'], y = df['price'])\n",
    "plt_plot.show()"
   ]
  },
  {
   "cell_type": "code",
   "execution_count": null,
   "metadata": {},
   "outputs": [],
   "source": [
    "# residual plot of wheel-base and price\n",
    "plt_plot.figure(figsize=(width, height))\n",
    "sns.residplot(x = df['wheel-base'], y = df['price'])\n",
    "plt_plot.show()"
   ]
  },
  {
   "attachments": {},
   "cell_type": "markdown",
   "metadata": {},
   "source": [
    "## Multiple Linear Regression Model Development"
   ]
  },
  {
   "cell_type": "code",
   "execution_count": null,
   "metadata": {},
   "outputs": [],
   "source": [
    "# create the linear regression object\n",
    "lm = LinearRegression()\n",
    "\n",
    "# create a multiple linear regression model with the updated x_columns\n",
    "x = df[x_columns]\n",
    "y = df[\"price\"]\n",
    "lm.fit(x, y)"
   ]
  },
  {
   "attachments": {},
   "cell_type": "markdown",
   "metadata": {},
   "source": [
    "## Model Testing and Evaluation"
   ]
  },
  {
   "cell_type": "code",
   "execution_count": null,
   "metadata": {},
   "outputs": [],
   "source": [
    "# make a prediction\n",
    "yhat = lm.predict(x)\n",
    "\n",
    "# create a distribution plot for the multiple linear regression model\n",
    "plt_plot.figure(figsize=(width, height))\n",
    "ax1 = sns.distplot(df['price'], hist=False, color=\"r\", label=\"Actual Value\")\n",
    "sns.distplot(yhat, hist=False, color=\"b\", label=\"Fitted Values\" , ax=ax1)\n",
    "\n",
    "plt_plot.title('Actual vs Fitted Values for Price')\n",
    "plt_plot.xlabel('Price (in dollars)')\n",
    "plt_plot.ylabel('Proportion of Cars')\n",
    "\n",
    "plt_plot.show()\n",
    "plt_plot.close()"
   ]
  },
  {
   "cell_type": "code",
   "execution_count": null,
   "metadata": {},
   "outputs": [],
   "source": [
    "# evaluate the model with the R-square\n",
    "print(\"The R-square is: \", lm.score(x, y))\n"
   ]
  },
  {
   "cell_type": "code",
   "execution_count": null,
   "metadata": {},
   "outputs": [],
   "source": [
    "# evaluate the model with the MSE\n",
    "mse = mean_squared_error(df['price'], yhat)\n",
    "print(\"The mean square error of price and predicted value is: \", mse)"
   ]
  },
  {
   "cell_type": "markdown",
   "metadata": {},
   "source": [
    "# Data Evaluation"
   ]
  },
  {
   "attachments": {},
   "cell_type": "markdown",
   "metadata": {},
   "source": [
    "// explain model results in non technical terms"
   ]
  },
  {
   "attachments": {},
   "cell_type": "markdown",
   "metadata": {},
   "source": [
    "    // actionable insights"
   ]
  },
  {
   "attachments": {},
   "cell_type": "markdown",
   "metadata": {},
   "source": [
    "### Question 1: Does curb weight have an impact on the price of a vehicle?"
   ]
  },
  {
   "attachments": {},
   "cell_type": "markdown",
   "metadata": {},
   "source": [
    "### Question 2: Does the size of the engine influence the price of a vehicle?"
   ]
  },
  {
   "attachments": {},
   "cell_type": "markdown",
   "metadata": {},
   "source": [
    "### Question 3 : What is the relationship between the horsepower and price of a vehicle?"
   ]
  },
  {
   "attachments": {},
   "cell_type": "markdown",
   "metadata": {},
   "source": [
    "// visualize findings and relate it to our problem statement and questions"
   ]
  },
  {
   "attachments": {},
   "cell_type": "markdown",
   "metadata": {},
   "source": [
    "// recommendations"
   ]
  }
 ],
 "metadata": {
  "kernelspec": {
   "display_name": "Python 3 (ipykernel)",
   "language": "python",
   "name": "python3"
  },
  "language_info": {
   "codemirror_mode": {
    "name": "ipython",
    "version": 3
   },
   "file_extension": ".py",
   "mimetype": "text/x-python",
   "name": "python",
   "nbconvert_exporter": "python",
   "pygments_lexer": "ipython3",
   "version": "3.10.9 (main, Dec 19 2022, 17:35:49) [GCC 12.2.0]"
  },
  "vscode": {
   "interpreter": {
    "hash": "e7370f93d1d0cde622a1f8e1c04877d8463912d04d973331ad4851f04de6915a"
   }
  }
 },
 "nbformat": 4,
 "nbformat_minor": 4
}
